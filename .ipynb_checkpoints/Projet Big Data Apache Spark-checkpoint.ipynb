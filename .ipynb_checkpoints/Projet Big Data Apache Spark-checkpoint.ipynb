{
 "cells": [
  {
   "cell_type": "markdown",
   "metadata": {
    "application/vnd.databricks.v1+cell": {
     "inputWidgets": {},
     "nuid": "f3532250-894b-455b-b7a3-e783dc1f0c9d",
     "showTitle": false,
     "title": ""
    }
   },
   "source": [
    "**Nom Etudiant : Diallo**  \n",
    "\n",
    "**Prenom Etudiant:Bineta**  \n",
    "\n",
    "**Classe :ING2GIT** \n",
    "\n",
    "**Date limite de dépot : 31/08/2022**\n",
    "\n",
    "\n",
    "# Travail à Faire:\n",
    "Télécharger le Datasets sur le lien Drive :  https://drive.google.com/file/d/1tuV0lyb2uWvOInodVTohpdCiAV5FrBX-/view?usp=sharing \n",
    "\n",
    "Repondre les questions ci-dessous avec le maximum de precisions et de détails.   \n",
    "Remplir `FILL_IN` avec les methodes qui correspondent à la réponse adéquate\n",
    "\n",
    "\n",
    "### Revenus des achats\n",
    "1. Extraire les revenus d'achat pour chaque événement\n",
    "2. Filtrer les événements dont le revenu n'est pas nul\n",
    "3. Vérifiez quels sont les types d'événements qui génèrent des revenus\n",
    "4. Supprimez la colonne inutile\n",
    "\n",
    "### Revenus par Traffic\n",
    "Obtenir les 3 sources de trafic générant le revenu total le plus élevé.\n",
    "5. Revenus cumulés par source de trafic\n",
    "7. Obtenir les 3 principales sources de trafic par revenu total\n",
    "6. Nettoyer les colonnes de revenus pour avoir deux décimales\n",
    "\n",
    "\n",
    "##### Methods\n",
    "- DataFrame: `select`, `drop`, `withColumn`, `filter`, `dropDuplicates`,  `groupBy`, `sort`, `limit`\n",
    "- Column: `isNotNull`, `alias`, `desc`, `cast`, `operators`"
   ]
  },
  {
   "cell_type": "code",
   "execution_count": 2,
   "metadata": {
    "application/vnd.databricks.v1+cell": {
     "inputWidgets": {},
     "nuid": "124f66d5-a758-40f9-9254-9802175a7eee",
     "showTitle": false,
     "title": ""
    }
   },
   "outputs": [
    {
     "data": {
      "text/html": [
       "\n",
       "            <div>\n",
       "                <p><b>SparkSession - in-memory</b></p>\n",
       "                \n",
       "        <div>\n",
       "            <p><b>SparkContext</b></p>\n",
       "\n",
       "            <p><a href=\"http://192.168.56.1:4042\">Spark UI</a></p>\n",
       "\n",
       "            <dl>\n",
       "              <dt>Version</dt>\n",
       "                <dd><code>v3.3.0</code></dd>\n",
       "              <dt>Master</dt>\n",
       "                <dd><code>local</code></dd>\n",
       "              <dt>AppName</dt>\n",
       "                <dd><code>Session de Rattrapage Big Data</code></dd>\n",
       "            </dl>\n",
       "        </div>\n",
       "        \n",
       "            </div>\n",
       "        "
      ],
      "text/plain": [
       "<pyspark.sql.session.SparkSession at 0x20a669756a0>"
      ]
     },
     "execution_count": 2,
     "metadata": {},
     "output_type": "execute_result"
    }
   ],
   "source": [
    "import findspark\n",
    "findspark.init()\n",
    "from pyspark.sql import SparkSession\n",
    "spark = SparkSession.builder.appName(\"Session de Rattrapage Big Data\").master(\"local\").getOrCreate()\n",
    "sc=spark.sparkContext\n",
    "spark"
   ]
  },
  {
   "cell_type": "code",
   "execution_count": 3,
   "metadata": {
    "application/vnd.databricks.v1+cell": {
     "inputWidgets": {},
     "nuid": "9e6a5343-3c8d-4b9b-9ea7-4b5897ff133b",
     "showTitle": false,
     "title": ""
    }
   },
   "outputs": [],
   "source": [
    "eventsPath = \"events.json\""
   ]
  },
  {
   "cell_type": "code",
   "execution_count": 5,
   "metadata": {
    "application/vnd.databricks.v1+cell": {
     "inputWidgets": {},
     "nuid": "54dcf1b1-4a15-48c7-a3bf-590499529d4a",
     "showTitle": false,
     "title": ""
    }
   },
   "outputs": [
    {
     "name": "stdout",
     "output_type": "stream",
     "text": [
      "+-------+------------------+----------+------------------------+----------------+--------------------+--------------------+--------------+--------------------------+-----------------+\n",
      "| device|         ecommerce|event_name|event_previous_timestamp| event_timestamp|                 geo|               items|traffic_source|user_first_touch_timestamp|          user_id|\n",
      "+-------+------------------+----------+------------------------+----------------+--------------------+--------------------+--------------+--------------------------+-----------------+\n",
      "|  macOS|{null, null, null}|  warranty|        1593878899217692|1593878946592107|      {Montrose, MI}|                  []|        google|          1593878899217692|UA000000107379500|\n",
      "|Windows|{null, null, null}|     press|        1593876662175340|1593877011756535|   {Northampton, MA}|                  []|        google|          1593876662175340|UA000000107359357|\n",
      "|  macOS|{null, null, null}|  add_item|        1593878792892652|1593878815459100|       {Salinas, CA}|[{null, M_STAN_T,...|       youtube|          1593878455472030|UA000000107375547|\n",
      "|    iOS|{null, null, null}|mattresses|        1593878178791663|1593878809276923|       {Everett, MA}|                  []|      facebook|          1593877903116176|UA000000107370581|\n",
      "|Windows|{null, null, null}|mattresses|                    null|1593878628143633| {Cottage Grove, MN}|                  []|        google|          1593878628143633|UA000000107377108|\n",
      "|Windows|{null, null, null}|      main|                    null|1593878634344194|        {Medina, MN}|                  []|       youtube|          1593878634344194|UA000000107377161|\n",
      "|    iOS|{null, null, null}|      main|                    null|1593877936171803|{Mount Pleasant, UT}|                  []|        direct|          1593877936171803|UA000000107370851|\n",
      "|  macOS|{null, null, null}|      main|                    null|1593876843215329|      {Piedmont, AL}|                  []|     instagram|          1593876843215329|UA000000107360961|\n",
      "|Android|{null, null, null}|  warranty|        1593878529774474|1593879213196400|{Rancho Santa Mar...|                  []|     instagram|          1593878529774474|UA000000107376205|\n",
      "|Windows|{null, null, null}|      main|                    null|1593876713246514|        {Elyria, OH}|                  []|      facebook|          1593876713246514|UA000000107359805|\n",
      "+-------+------------------+----------+------------------------+----------------+--------------------+--------------------+--------------+--------------------------+-----------------+\n",
      "only showing top 10 rows\n",
      "\n"
     ]
    }
   ],
   "source": [
    "eventsDF = spark.read.option(\"header\",\"true\").option(\"inteferSchema\",\"true\").option(\"delimiter\",\",\").json(eventsPath)\n",
    "eventsDF.show(10)"
   ]
  },
  {
   "cell_type": "markdown",
   "metadata": {
    "application/vnd.databricks.v1+cell": {
     "inputWidgets": {},
     "nuid": "ca867dd2-4e12-40ad-a63b-4300fe236849",
     "showTitle": false,
     "title": ""
    }
   },
   "source": [
    "### 1. Extraire les revenus d'achat pour chaque événement\n",
    "Ajouter une nouvelle colonne **`revenue`** en faisant l'extration de **`ecommerce.purchase_revenue_in_usd`**"
   ]
  },
  {
   "cell_type": "code",
   "execution_count": 6,
   "metadata": {},
   "outputs": [
    {
     "name": "stdout",
     "output_type": "stream",
     "text": [
      "+-----------------------+\n",
      "|purchase_revenue_in_usd|\n",
      "+-----------------------+\n",
      "|                   null|\n",
      "|                   null|\n",
      "|                   null|\n",
      "|                   null|\n",
      "|                   null|\n",
      "|                   null|\n",
      "|                   null|\n",
      "|                   null|\n",
      "|                   null|\n",
      "|                   null|\n",
      "+-----------------------+\n",
      "only showing top 10 rows\n",
      "\n"
     ]
    }
   ],
   "source": [
    "revenu=eventsDF.select('ecommerce.purchase_revenue_in_usd')\n",
    "revenu.show(10)"
   ]
  },
  {
   "cell_type": "code",
   "execution_count": 7,
   "metadata": {
    "application/vnd.databricks.v1+cell": {
     "inputWidgets": {},
     "nuid": "4b6760a2-7b47-4713-aed3-65db8157dbe0",
     "showTitle": false,
     "title": ""
    }
   },
   "outputs": [
    {
     "name": "stdout",
     "output_type": "stream",
     "text": [
      "+-------+------------------+----------+------------------------+----------------+--------------------+--------------------+--------------+--------------------------+-----------------+-------+\n",
      "| device|         ecommerce|event_name|event_previous_timestamp| event_timestamp|                 geo|               items|traffic_source|user_first_touch_timestamp|          user_id|revenue|\n",
      "+-------+------------------+----------+------------------------+----------------+--------------------+--------------------+--------------+--------------------------+-----------------+-------+\n",
      "|  macOS|{null, null, null}|  warranty|        1593878899217692|1593878946592107|      {Montrose, MI}|                  []|        google|          1593878899217692|UA000000107379500|   null|\n",
      "|Windows|{null, null, null}|     press|        1593876662175340|1593877011756535|   {Northampton, MA}|                  []|        google|          1593876662175340|UA000000107359357|   null|\n",
      "|  macOS|{null, null, null}|  add_item|        1593878792892652|1593878815459100|       {Salinas, CA}|[{null, M_STAN_T,...|       youtube|          1593878455472030|UA000000107375547|   null|\n",
      "|    iOS|{null, null, null}|mattresses|        1593878178791663|1593878809276923|       {Everett, MA}|                  []|      facebook|          1593877903116176|UA000000107370581|   null|\n",
      "|Windows|{null, null, null}|mattresses|                    null|1593878628143633| {Cottage Grove, MN}|                  []|        google|          1593878628143633|UA000000107377108|   null|\n",
      "|Windows|{null, null, null}|      main|                    null|1593878634344194|        {Medina, MN}|                  []|       youtube|          1593878634344194|UA000000107377161|   null|\n",
      "|    iOS|{null, null, null}|      main|                    null|1593877936171803|{Mount Pleasant, UT}|                  []|        direct|          1593877936171803|UA000000107370851|   null|\n",
      "|  macOS|{null, null, null}|      main|                    null|1593876843215329|      {Piedmont, AL}|                  []|     instagram|          1593876843215329|UA000000107360961|   null|\n",
      "|Android|{null, null, null}|  warranty|        1593878529774474|1593879213196400|{Rancho Santa Mar...|                  []|     instagram|          1593878529774474|UA000000107376205|   null|\n",
      "|Windows|{null, null, null}|      main|                    null|1593876713246514|        {Elyria, OH}|                  []|      facebook|          1593876713246514|UA000000107359805|   null|\n",
      "+-------+------------------+----------+------------------------+----------------+--------------------+--------------------+--------------+--------------------------+-----------------+-------+\n",
      "only showing top 10 rows\n",
      "\n"
     ]
    }
   ],
   "source": [
    "from pyspark.sql.functions import col\n",
    "revenueDF = eventsDF.withColumn(\"revenue\",col(\"ecommerce.purchase_revenue_in_usd\"))\n",
    "revenueDF.show(10)"
   ]
  },
  {
   "cell_type": "markdown",
   "metadata": {
    "application/vnd.databricks.v1+cell": {
     "inputWidgets": {},
     "nuid": "0b36255e-809d-4f37-bf29-14a84fb54dbc",
     "showTitle": false,
     "title": ""
    }
   },
   "source": [
    "### 2. Filtrer les événements dont le revenu n'est pas null"
   ]
  },
  {
   "cell_type": "code",
   "execution_count": 10,
   "metadata": {
    "application/vnd.databricks.v1+cell": {
     "inputWidgets": {},
     "nuid": "c3ab4d8d-3ba9-4efe-a0b2-f64a313c52a7",
     "showTitle": false,
     "title": ""
    }
   },
   "outputs": [
    {
     "name": "stdout",
     "output_type": "stream",
     "text": [
      "+---------+--------------+----------+------------------------+----------------+--------------------+--------------------+--------------+--------------------------+-----------------+-------+\n",
      "|   device|     ecommerce|event_name|event_previous_timestamp| event_timestamp|                 geo|               items|traffic_source|user_first_touch_timestamp|          user_id|revenue|\n",
      "+---------+--------------+----------+------------------------+----------------+--------------------+--------------------+--------------+--------------------------+-----------------+-------+\n",
      "|    Linux|{1195.0, 1, 1}|  finalize|        1593878893766134|1593878897648871|       {Shawnee, KS}|[{null, M_STAN_K,...|        google|          1593876996316576|UA000000107362263| 1195.0|\n",
      "|      iOS|{1045.0, 1, 1}|  finalize|        1593878485345763|1593878487460247|       {Detroit, MI}|[{null, M_STAN_Q,...|      facebook|          1593877230282722|UA000000107364432| 1045.0|\n",
      "|  Android| {595.0, 1, 1}|  finalize|        1593877930076602|1593878966392505|  {East Chicago, IN}|[{null, M_STAN_T,...|        google|          1593876889575474|UA000000107361347|  595.0|\n",
      "|      iOS|{2290.0, 2, 2}|  finalize|        1593877650094042|1593877652106953|       {Warwick, RI}|[{null, M_PREM_F,...|        google|          1593876687337581|UA000000107359573| 2290.0|\n",
      "|    macOS| {945.0, 1, 1}|  finalize|        1593879151529456|1593879197837168|     {Boonville, MO}|[{null, M_STAN_F,...|      facebook|          1593878603312910|UA000000107376872|  945.0|\n",
      "|  Windows| {595.0, 1, 1}|  finalize|        1593877908876473|1593878020119079|       {Hampton, VA}|[{null, M_STAN_T,...|        google|          1593877033894464|UA000000107362622|  595.0|\n",
      "|  Android| {945.0, 1, 1}|  finalize|        1593878355764861|1593878641498265|{White Bear Lake,...|[{null, M_STAN_F,...|        direct|          1593877080764516|UA000000107363039|  945.0|\n",
      "|Chrome OS|{1095.0, 1, 1}|  finalize|        1593879073813036|1593879191730221|   {San Antonio, TX}|[{null, M_PREM_T,...|     instagram|          1593877153633764|UA000000107363715| 1095.0|\n",
      "|    macOS|{1045.0, 1, 1}|  finalize|        1593877425584678|1593877429621158|        {Searcy, AR}|[{null, M_STAN_Q,...|        direct|          1593876851338276|UA000000107361027| 1045.0|\n",
      "|      iOS|{1045.0, 1, 1}|  finalize|        1593878984623390|1593879046209960|     {Southport, IN}|[{null, M_STAN_Q,...|     instagram|          1593876574686487|UA000000107358614| 1045.0|\n",
      "+---------+--------------+----------+------------------------+----------------+--------------------+--------------------+--------------+--------------------------+-----------------+-------+\n",
      "only showing top 10 rows\n",
      "\n"
     ]
    }
   ],
   "source": [
    "purchasesDF = revenueDF.filter(\"revenue IS NOT NULL\")\n",
    "purchasesDF.show(10)"
   ]
  },
  {
   "cell_type": "markdown",
   "metadata": {
    "application/vnd.databricks.v1+cell": {
     "inputWidgets": {},
     "nuid": "8c7799f6-4668-47fe-ad11-2d95fb42f3cd",
     "showTitle": false,
     "title": ""
    }
   },
   "source": [
    "### 3. Vérifiez quels sont les types d'événements qui génèrent des revenus\n",
    "Trouvez des valeurs **`event_name`** uniques dans **`purchasesDF`**. Il y a deux façons de faire :\n",
    "- Sélectionnez \"event_name\" et recupérer les enregistrements distincts\n",
    "- Supprimez les enregistrements en double en fonction de \"event_name\" uniquement"
   ]
  },
  {
   "cell_type": "code",
   "execution_count": 12,
   "metadata": {
    "application/vnd.databricks.v1+cell": {
     "inputWidgets": {},
     "nuid": "9be33ae8-08e1-4f11-901a-d11f94d1a2a3",
     "showTitle": false,
     "title": ""
    }
   },
   "outputs": [
    {
     "name": "stdout",
     "output_type": "stream",
     "text": [
      "+----------+\n",
      "|event_name|\n",
      "+----------+\n",
      "|  finalize|\n",
      "+----------+\n",
      "\n"
     ]
    }
   ],
   "source": [
    "distinctDF = purchasesDF.select('event_name').distinct()\n",
    "distinctDF.show()"
   ]
  },
  {
   "cell_type": "code",
   "execution_count": 13,
   "metadata": {},
   "outputs": [
    {
     "name": "stdout",
     "output_type": "stream",
     "text": [
      "+------+--------------+----------+------------------------+----------------+-------------+--------------------+--------------+--------------------------+-----------------+-------+\n",
      "|device|     ecommerce|event_name|event_previous_timestamp| event_timestamp|          geo|               items|traffic_source|user_first_touch_timestamp|          user_id|revenue|\n",
      "+------+--------------+----------+------------------------+----------------+-------------+--------------------+--------------+--------------------------+-----------------+-------+\n",
      "| Linux|{1195.0, 1, 1}|  finalize|        1593878893766134|1593878897648871|{Shawnee, KS}|[{null, M_STAN_K,...|        google|          1593876996316576|UA000000107362263| 1195.0|\n",
      "+------+--------------+----------+------------------------+----------------+-------------+--------------------+--------------+--------------------------+-----------------+-------+\n",
      "\n"
     ]
    }
   ],
   "source": [
    "purchasesDF.dropDuplicates(['event_name']).show()"
   ]
  },
  {
   "cell_type": "markdown",
   "metadata": {
    "application/vnd.databricks.v1+cell": {
     "inputWidgets": {},
     "nuid": "da232f23-514c-4423-975f-20162fec0cb9",
     "showTitle": false,
     "title": ""
    }
   },
   "source": [
    "### 4. Supprimez la colonne inutile\n",
    "Puisqu'il n'y a qu'un seul type d'événement, supprimez **`event_name`** de **`purchasesDF`**."
   ]
  },
  {
   "cell_type": "code",
   "execution_count": 16,
   "metadata": {
    "application/vnd.databricks.v1+cell": {
     "inputWidgets": {},
     "nuid": "cff64c80-f082-408f-8ad2-50abd75d2f75",
     "showTitle": false,
     "title": ""
    }
   },
   "outputs": [
    {
     "name": "stdout",
     "output_type": "stream",
     "text": [
      "+---------+--------------+------------------------+----------------+--------------------+--------------------+--------------+--------------------------+-----------------+-------+\n",
      "|   device|     ecommerce|event_previous_timestamp| event_timestamp|                 geo|               items|traffic_source|user_first_touch_timestamp|          user_id|revenue|\n",
      "+---------+--------------+------------------------+----------------+--------------------+--------------------+--------------+--------------------------+-----------------+-------+\n",
      "|    Linux|{1195.0, 1, 1}|        1593878893766134|1593878897648871|       {Shawnee, KS}|[{null, M_STAN_K,...|        google|          1593876996316576|UA000000107362263| 1195.0|\n",
      "|      iOS|{1045.0, 1, 1}|        1593878485345763|1593878487460247|       {Detroit, MI}|[{null, M_STAN_Q,...|      facebook|          1593877230282722|UA000000107364432| 1045.0|\n",
      "|  Android| {595.0, 1, 1}|        1593877930076602|1593878966392505|  {East Chicago, IN}|[{null, M_STAN_T,...|        google|          1593876889575474|UA000000107361347|  595.0|\n",
      "|      iOS|{2290.0, 2, 2}|        1593877650094042|1593877652106953|       {Warwick, RI}|[{null, M_PREM_F,...|        google|          1593876687337581|UA000000107359573| 2290.0|\n",
      "|    macOS| {945.0, 1, 1}|        1593879151529456|1593879197837168|     {Boonville, MO}|[{null, M_STAN_F,...|      facebook|          1593878603312910|UA000000107376872|  945.0|\n",
      "|  Windows| {595.0, 1, 1}|        1593877908876473|1593878020119079|       {Hampton, VA}|[{null, M_STAN_T,...|        google|          1593877033894464|UA000000107362622|  595.0|\n",
      "|  Android| {945.0, 1, 1}|        1593878355764861|1593878641498265|{White Bear Lake,...|[{null, M_STAN_F,...|        direct|          1593877080764516|UA000000107363039|  945.0|\n",
      "|Chrome OS|{1095.0, 1, 1}|        1593879073813036|1593879191730221|   {San Antonio, TX}|[{null, M_PREM_T,...|     instagram|          1593877153633764|UA000000107363715| 1095.0|\n",
      "|    macOS|{1045.0, 1, 1}|        1593877425584678|1593877429621158|        {Searcy, AR}|[{null, M_STAN_Q,...|        direct|          1593876851338276|UA000000107361027| 1045.0|\n",
      "|      iOS|{1045.0, 1, 1}|        1593878984623390|1593879046209960|     {Southport, IN}|[{null, M_STAN_Q,...|     instagram|          1593876574686487|UA000000107358614| 1045.0|\n",
      "+---------+--------------+------------------------+----------------+--------------------+--------------------+--------------+--------------------------+-----------------+-------+\n",
      "only showing top 10 rows\n",
      "\n"
     ]
    }
   ],
   "source": [
    "cleanDF = purchasesDF.drop('event_name')\n",
    "cleanDF.show(10)"
   ]
  },
  {
   "cell_type": "markdown",
   "metadata": {
    "application/vnd.databricks.v1+cell": {
     "inputWidgets": {},
     "nuid": "c9ca35ef-7fa1-4259-b7cc-59a42a7e3fdc",
     "showTitle": false,
     "title": ""
    }
   },
   "source": [
    "### 5. Revenus cumulés par source de trafic\n",
    "- Grouper par **`traffic_source`**\n",
    "- Obtenir la somme de **`revenue`** comme **`total_rev`**\n",
    "- Obtenir la moyenne de **`revenue`** comme **`avg_rev`**\n",
    "\n",
    "N'oubliez pas d'importer toutes les fonctions intégrées nécessaires."
   ]
  },
  {
   "cell_type": "code",
   "execution_count": 28,
   "metadata": {},
   "outputs": [
    {
     "name": "stdout",
     "output_type": "stream",
     "text": [
      "+--------------+---------+\n",
      "|traffic_source|total_rev|\n",
      "+--------------+---------+\n",
      "|     instagram|   8160.0|\n",
      "|        direct|   9129.0|\n",
      "|       youtube|   3040.0|\n",
      "|         email|  36935.4|\n",
      "|      facebook|  12952.0|\n",
      "|        google|  28936.0|\n",
      "+--------------+---------+\n",
      "\n"
     ]
    }
   ],
   "source": [
    "trafficDF1 = cleanDF.groupBy(\"traffic_source\").sum(\"revenue\")\n",
    "trafficDF1=trafficDF1.withColumnRenamed(\"sum(revenue)\",\"total_rev\")\n",
    "trafficDF1.show()"
   ]
  },
  {
   "cell_type": "code",
   "execution_count": 29,
   "metadata": {},
   "outputs": [
    {
     "name": "stdout",
     "output_type": "stream",
     "text": [
      "+--------------+-----------------+\n",
      "|traffic_source|          avg_rev|\n",
      "+--------------+-----------------+\n",
      "|     instagram|           1020.0|\n",
      "|        direct|         1141.125|\n",
      "|       youtube|           1520.0|\n",
      "|         email|998.2540540540541|\n",
      "|      facebook|996.3076923076923|\n",
      "|        google|964.5333333333333|\n",
      "+--------------+-----------------+\n",
      "\n"
     ]
    }
   ],
   "source": [
    "trafficDF2=cleanDF.groupBy(\"traffic_source\").avg(\"revenue\")\n",
    "trafficDF2=trafficDF2.withColumnRenamed(\"avg(revenue)\",\"avg_rev\")\n",
    "trafficDF2.show()"
   ]
  },
  {
   "cell_type": "markdown",
   "metadata": {
    "application/vnd.databricks.v1+cell": {
     "inputWidgets": {},
     "nuid": "752ce304-d2e1-47f5-acd0-d5a30183bf19",
     "showTitle": false,
     "title": ""
    }
   },
   "source": [
    "### 2. Obtenir les trois principales sources de trafic par revenu total\n",
    "- Trier par **`total_rev`** dans l'ordre décroissant\n",
    "- Se limiter aux trois premières lignes"
   ]
  },
  {
   "cell_type": "code",
   "execution_count": 30,
   "metadata": {
    "application/vnd.databricks.v1+cell": {
     "inputWidgets": {},
     "nuid": "89de0a73-924d-4b55-8ed2-9b936dabc496",
     "showTitle": false,
     "title": ""
    }
   },
   "outputs": [
    {
     "name": "stdout",
     "output_type": "stream",
     "text": [
      "+--------------+---------+\n",
      "|traffic_source|total_rev|\n",
      "+--------------+---------+\n",
      "|         email|  36935.4|\n",
      "|        google|  28936.0|\n",
      "|      facebook|  12952.0|\n",
      "+--------------+---------+\n",
      "only showing top 3 rows\n",
      "\n"
     ]
    }
   ],
   "source": [
    "topTrafficDF = trafficDF1.sort(['total_rev'],ascending = False)\n",
    "topTrafficDF.show(3)"
   ]
  },
  {
   "cell_type": "code",
   "execution_count": 31,
   "metadata": {},
   "outputs": [
    {
     "name": "stdout",
     "output_type": "stream",
     "text": [
      "+--------------+--------+\n",
      "|traffic_source| avg_rev|\n",
      "+--------------+--------+\n",
      "|       youtube|  1520.0|\n",
      "|        direct|1141.125|\n",
      "|     instagram|  1020.0|\n",
      "+--------------+--------+\n",
      "only showing top 3 rows\n",
      "\n"
     ]
    }
   ],
   "source": [
    "topTrafficDF2 = trafficDF2.sort(['avg_rev'],ascending = False)\n",
    "topTrafficDF2.show(3)"
   ]
  },
  {
   "cell_type": "markdown",
   "metadata": {
    "application/vnd.databricks.v1+cell": {
     "inputWidgets": {},
     "nuid": "e46516b0-0637-47c4-a29d-58b32c8760db",
     "showTitle": false,
     "title": ""
    }
   },
   "source": [
    "### 3. Limitez les colonnes de revenus à deux décimales pointés\n",
    "- Modifier les colonnes **`avg_rev`** et **`total_rev`** pour les convertir en des nombres avec deux décimales pointés"
   ]
  },
  {
   "cell_type": "code",
   "execution_count": 26,
   "metadata": {
    "application/vnd.databricks.v1+cell": {
     "inputWidgets": {},
     "nuid": "9660408e-252d-4b78-a6e6-e3028640f4b0",
     "showTitle": false,
     "title": ""
    }
   },
   "outputs": [
    {
     "name": "stdout",
     "output_type": "stream",
     "text": [
      "+--------------+---------+\n",
      "|traffic_source|total_rev|\n",
      "+--------------+---------+\n",
      "|         email| 36935.40|\n",
      "|        google| 28936.00|\n",
      "|      facebook| 12952.00|\n",
      "|        direct|  9129.00|\n",
      "|     instagram|  8160.00|\n",
      "|       youtube|  3040.00|\n",
      "+--------------+---------+\n",
      "\n"
     ]
    }
   ],
   "source": [
    "finalDF1 = topTrafficDF.withColumn(\"total_rev\", col(\"total_rev\").cast(\"Decimal(10,2)\"))\n",
    "finalDF1.show()"
   ]
  },
  {
   "cell_type": "code",
   "execution_count": 32,
   "metadata": {},
   "outputs": [
    {
     "name": "stdout",
     "output_type": "stream",
     "text": [
      "+--------------+-------+\n",
      "|traffic_source|avg_rev|\n",
      "+--------------+-------+\n",
      "|       youtube|1520.00|\n",
      "|        direct|1141.13|\n",
      "|     instagram|1020.00|\n",
      "|         email| 998.25|\n",
      "|      facebook| 996.31|\n",
      "|        google| 964.53|\n",
      "+--------------+-------+\n",
      "\n"
     ]
    }
   ],
   "source": [
    "finalDF2 = topTrafficDF2.withColumn(\"avg_rev\", col(\"avg_rev\").cast(\"Decimal(10,2)\"))\n",
    "finalDF2.show()"
   ]
  },
  {
   "cell_type": "code",
   "execution_count": null,
   "metadata": {},
   "outputs": [],
   "source": []
  }
 ],
 "metadata": {
  "application/vnd.databricks.v1+notebook": {
   "dashboards": [],
   "language": "python",
   "notebookMetadata": {
    "pythonIndentUnit": 2
   },
   "notebookName": "Examen Rattrapage  Big Data ISI",
   "notebookOrigID": 2952678889524244,
   "widgets": {}
  },
  "kernelspec": {
   "display_name": "Python 3 (ipykernel)",
   "language": "python",
   "name": "python3"
  },
  "language_info": {
   "codemirror_mode": {
    "name": "ipython",
    "version": 3
   },
   "file_extension": ".py",
   "mimetype": "text/x-python",
   "name": "python",
   "nbconvert_exporter": "python",
   "pygments_lexer": "ipython3",
   "version": "3.9.7"
  }
 },
 "nbformat": 4,
 "nbformat_minor": 4
}
